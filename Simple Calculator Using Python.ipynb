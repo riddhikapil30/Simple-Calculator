{
 "cells": [
  {
   "cell_type": "code",
   "execution_count": 17,
   "id": "0c0698b1",
   "metadata": {},
   "outputs": [
    {
     "name": "stdout",
     "output_type": "stream",
     "text": [
      "Select operation.\n",
      "1.Addition\n",
      "2.Subtraction\n",
      "3.Multiplication\n",
      "4.Division\n",
      "Enter choice: 1\n",
      "Enter first number: 12\n",
      "Enter second number: 4\n",
      "12.0 + 4.0 = 16.0\n"
     ]
    }
   ],
   "source": [
    "# Program make a simple calculator\n",
    "def add(a, b):\n",
    "    return a + b\n",
    "def subtract(a, b):\n",
    "    return a - b\n",
    "def multiply(a, b):\n",
    "    return a * b\n",
    "def divide(a, b):\n",
    "    return a / b\n",
    "\n",
    "print(\"Select operation.\")\n",
    "print(\"1.Addition\")\n",
    "print(\"2.Subtraction\")\n",
    "print(\"3.Multiplication\")\n",
    "print(\"4.Division\")\n",
    "\n",
    "while True:\n",
    "    choice = input(\"Enter choice: \")\n",
    "\n",
    "    if choice in ('1', '2', '3', '4'):\n",
    "        n1 = float(input(\"Enter first number: \"))\n",
    "        n2 = float(input(\"Enter second number: \"))\n",
    "\n",
    "        if choice == '1':\n",
    "            print(n1, \"+\", n2, \"=\", add(n1, n2))\n",
    "\n",
    "        elif choice == '2':\n",
    "            print(n1, \"-\", n2, \"=\", subtract(n1, n2))\n",
    "\n",
    "        elif choice == '3':\n",
    "            print(n1, \"*\", n2, \"=\", multiply(n1, n2))\n",
    "\n",
    "        elif choice == '4':\n",
    "            print(n1, \"/\", n2, \"=\", divide(n1, n2))\n",
    "        break\n",
    "    \n",
    "    else:\n",
    "        print(\"Invalid Input\")"
   ]
  },
  {
   "cell_type": "code",
   "execution_count": null,
   "id": "78c22de7",
   "metadata": {},
   "outputs": [],
   "source": []
  },
  {
   "cell_type": "code",
   "execution_count": null,
   "id": "8fb09a25",
   "metadata": {},
   "outputs": [],
   "source": []
  }
 ],
 "metadata": {
  "kernelspec": {
   "display_name": "Python 3 (ipykernel)",
   "language": "python",
   "name": "python3"
  },
  "language_info": {
   "codemirror_mode": {
    "name": "ipython",
    "version": 3
   },
   "file_extension": ".py",
   "mimetype": "text/x-python",
   "name": "python",
   "nbconvert_exporter": "python",
   "pygments_lexer": "ipython3",
   "version": "3.9.13"
  }
 },
 "nbformat": 4,
 "nbformat_minor": 5
}
